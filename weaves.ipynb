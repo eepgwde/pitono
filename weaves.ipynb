{
 "cells": [
  {
   "cell_type": "code",
   "execution_count": 1,
   "metadata": {},
   "outputs": [],
   "source": [
    "import os\n",
    "import datetime\n",
    "\n",
    "import pandas as pd\n",
    "import numpy as np\n",
    "\n",
    "import logging\n",
    "from weaves import Utility, DataFrames\n",
    "\n",
    "%load_ext autoreload\n",
    "%autoreload 2"
   ]
  },
  {
   "cell_type": "code",
   "execution_count": 4,
   "metadata": {},
   "outputs": [
    {
     "data": {
      "text/plain": [
       "'0.1.0'"
      ]
     },
     "execution_count": 4,
     "metadata": {},
     "output_type": "execute_result"
    }
   ],
   "source": [
    "s0 = pd.DataFrame()\n",
    "type(s0)\n",
    "\n",
    "DataFrames.__version__"
   ]
  },
  {
   "cell_type": "code",
   "execution_count": 3,
   "metadata": {},
   "outputs": [],
   "source": [
    "logging.basicConfig(filename='test.log', level=logging.DEBUG)\n",
    "logger = logging.getLogger('Test')\n",
    "sh = logging.StreamHandler()\n",
    "logger.addHandler(sh)"
   ]
  },
  {
   "cell_type": "code",
   "execution_count": null,
   "metadata": {},
   "outputs": [],
   "source": [
    "## This needs a q server running - see dunnh qserve\n",
    "\n",
    "q0 = DataFrames.instance().qfetcher(r'http://localhost:4444')\n",
    "df0 = q0.fetch(r'select count i from trns')\n",
    "\n",
    "print(type(df0))\n",
    "df0"
   ]
  },
  {
   "cell_type": "code",
   "execution_count": null,
   "metadata": {},
   "outputs": [],
   "source": [
    "from weaves import DataFrames\n",
    "\n",
    "f1 = pd.read_csv(\"cache/gdp.csv\")\n",
    "\n",
    "class Test4:\n",
    "    f1 = None\n",
    "    f2 = None\n",
    "\n",
    "    def __init__(self, **kwargs):\n",
    "        self.s0 = DataFrames.instance()\n",
    "        \n",
    "        self.f1 = f1\n",
    "\n",
    "        obs = self.f1.shape[0]\n",
    "\n",
    "        types = self.f1.dtypes\n",
    "        counts = self.f1.apply(lambda x: x.count())\n",
    "        distincts = self.f1.apply(lambda x: x.unique().shape[0])\n",
    "        nulls = self.f1.apply(lambda x: x.isnull().sum())\n",
    "        missingP = (self.f1.isnull().sum()/ obs)\n",
    "\n",
    "        skewness = self.f1.skew()\n",
    "        kurtosis = self.f1.kurtosis()\n",
    "\n",
    "        uniques = self.f1.apply(lambda x: [x.unique()])\n",
    "        uniques = uniques.transpose()\n",
    "        uniques.columns = [ \"uniques\" ]\n",
    "\n",
    "        f2 = self.s0.merge(types, name0='types')\n",
    "        f2 = self.s0.merge(counts, name0='counts')\n",
    "        f2 = self.s0.merge(distincts, name0='distincts')\n",
    "        f2 = self.s0.merge(nulls, name0='nulls')\n",
    "        f2 = self.s0.merge(missingP, name0='missingP')\n",
    "        f2 = self.s0.merge(skewness, name0='skewness')\n",
    "        f2 = self.s0.merge(kurtosis, name0='kurtosis')\n",
    "        f2 = self.s0.merge(uniques, name0='uniques')\n",
    "        self.f2 = f2\n",
    "\n",
    "x0 = Test4()\n",
    "x0.f2"
   ]
  },
  {
   "cell_type": "code",
   "execution_count": null,
   "metadata": {},
   "outputs": [],
   "source": [
    "f2 = DataFrames.instance().quality0(f1, predictor='Value')\n",
    "f2"
   ]
  },
  {
   "cell_type": "code",
   "execution_count": null,
   "metadata": {},
   "outputs": [],
   "source": [
    "df = Utility.instance(logger=logger).neo4j(file=None);\n",
    "df"
   ]
  },
  {
   "cell_type": "code",
   "execution_count": null,
   "metadata": {},
   "outputs": [],
   "source": []
  },
  {
   "cell_type": "code",
   "execution_count": null,
   "metadata": {},
   "outputs": [],
   "source": [
    "s = Utility.instance(logger=logger).neo4j(file=None, url={'host': 'j1', 'server': 'movies'})\n",
    "s"
   ]
  },
  {
   "cell_type": "code",
   "execution_count": null,
   "metadata": {},
   "outputs": [],
   "source": [
    "s = Utility.instance(logger=logger).neo4j(file=None, auth=dict())\n",
    "s"
   ]
  },
  {
   "cell_type": "code",
   "execution_count": null,
   "metadata": {},
   "outputs": [],
   "source": [
    "d0,df=s\n",
    "df.empty\n",
    "df.iloc[0].to_dict()\n",
    "# df[(df['host']==d0['host']) & (df['protocol']==d0['protocol']) & (df['server']==d0['server'])]"
   ]
  },
  {
   "cell_type": "code",
   "execution_count": null,
   "metadata": {},
   "outputs": [],
   "source": [
    "import urllib.request\n",
    "# Download the file from `url`, save it in a temporary directory and get the\n",
    "# path to it (e.g. '/tmp/tmpb48zma.txt') in the `file_name` variable:\n",
    "# It won't copy to the TMP directory if it is a file URL.\n",
    "url = 'file:////cache/baks/0/archive/text8_lines1'\n",
    "url = 'http://j1/~weaves/text8_lines1'\n",
    "\n",
    "file_name, headers = urllib.request.urlretrieve(url)"
   ]
  },
  {
   "cell_type": "code",
   "execution_count": null,
   "metadata": {},
   "outputs": [],
   "source": [
    "print(file_name)\n",
    "headers"
   ]
  },
  {
   "cell_type": "code",
   "execution_count": null,
   "metadata": {},
   "outputs": [],
   "source": [
    "import shutil\n",
    "import tempfile\n",
    "import urllib.request\n",
    "\n",
    "url = 'http://j1/~weaves/text8_lines1'\n",
    "url = 'file:////cache/baks/0/archive/text8_lines1'\n",
    "\n",
    "with urllib.request.urlopen(url) as response:\n",
    "    with tempfile.NamedTemporaryFile(delete=False) as tmp_file:\n",
    "        shutil.copyfileobj(response, tmp_file)\n",
    "\n",
    "print(tmp_file.name)\n",
    "        \n",
    "with open(tmp_file.name) as html:\n",
    "    print(html.read())\n",
    "    pass"
   ]
  },
  {
   "cell_type": "code",
   "execution_count": null,
   "metadata": {},
   "outputs": [],
   "source": [
    "import weaves\n",
    "from weaves.preferences import Pair0, Prefer0, NoPrefer0"
   ]
  },
  {
   "cell_type": "code",
   "execution_count": null,
   "metadata": {},
   "outputs": [],
   "source": [
    "print(weaves.__version__)\n",
    "print(weaves.__Id__)"
   ]
  },
  {
   "cell_type": "code",
   "execution_count": null,
   "metadata": {},
   "outputs": [],
   "source": [
    "from itertools import permutations, combinations\n",
    "  \n",
    "# Get all permutations of [1, 2, 3] \n",
    "# s0 = permutations([1, 2, 3])\n",
    "\n",
    "xs0 = 'ABCD'\n",
    "print(len(xs0))\n",
    "\n",
    "tions = lambda xs, n: combinations(xs, n)\n",
    "tions = lambda xs, n: permutations(xs, n)\n",
    "\n",
    "s0 = set()\n",
    "\n",
    "s1 = tions('ABCD', 1)\n",
    "s0 = s0.union(s1)\n",
    "\n",
    "s2 = tions('ABCD', 2)\n",
    "s0 = s0.union(s2)\n",
    "\n",
    "s3 = tions('ABCD', 3)\n",
    "s0 = s0.union(s3)\n",
    "\n",
    "s4 = tions('ABCD', 4)\n",
    "s0 = s0.union(s4)\n",
    "\n",
    "  \n",
    "# Print the obtained permutations \n",
    "for i in s0: \n",
    "    print(i)\n",
    "    \n",
    "print(len(s0))"
   ]
  },
  {
   "cell_type": "code",
   "execution_count": null,
   "metadata": {},
   "outputs": [],
   "source": [
    "s00 = set()\n",
    "\n",
    "for i in iter(range(len(xs0))):\n",
    "        s00 = s00.union(tions(xs0, i+1))\n",
    "        \n",
    "# Print the obtained permutations \n",
    "for i in s00: \n",
    "    print(i)\n",
    "    \n",
    "print(len(s00))"
   ]
  },
  {
   "cell_type": "code",
   "execution_count": null,
   "metadata": {},
   "outputs": [],
   "source": [
    "weaves.POSetOps.instance().strong('ABCD')"
   ]
  },
  {
   "cell_type": "code",
   "execution_count": null,
   "metadata": {},
   "outputs": [],
   "source": [
    "r0 = Pair0('A', 'B')\n",
    "r1 = Pair0('A', 'B')\n",
    "try:\n",
    "    r2 = Pair0('A', '')\n",
    "except ValueError as e:\n",
    "    print(e.args)\n",
    "\n",
    "try:\n",
    "    r2 = Pair0('', 'B')\n",
    "except ValueError as e:\n",
    "    print(e.args)\n",
    "\n",
    "try:\n",
    "    r2 = Pair0([], 'B')\n",
    "except ValueError as e:\n",
    "    print(e.args)\n",
    "\n",
    "try:\n",
    "    r2 = Pair0([[]], 'B')\n",
    "except ValueError as e:\n",
    "    print(e.args)\n",
    "\n",
    "r0 == r1"
   ]
  },
  {
   "cell_type": "code",
   "execution_count": null,
   "metadata": {},
   "outputs": [],
   "source": [
    "r2 = r3 = []\n",
    "\n",
    "try:\n",
    "    r2 = Pair0(r0, r0)\n",
    "except ValueError as e:\n",
    "    print(e.args)\n",
    "    \n",
    "print(r2)\n",
    "\n",
    "try:\n",
    "    r3 = Pair0(r1, r0)\n",
    "except ValueError as e:\n",
    "    print(e.args)\n",
    "\n",
    "r2 == r3"
   ]
  },
  {
   "cell_type": "code",
   "execution_count": null,
   "metadata": {},
   "outputs": [],
   "source": [
    "r0 == r0"
   ]
  },
  {
   "cell_type": "code",
   "execution_count": null,
   "metadata": {},
   "outputs": [],
   "source": [
    "r0 is r0"
   ]
  },
  {
   "cell_type": "code",
   "execution_count": null,
   "metadata": {},
   "outputs": [],
   "source": [
    "r0 is r1"
   ]
  },
  {
   "cell_type": "code",
   "execution_count": null,
   "metadata": {},
   "outputs": [],
   "source": [
    "r0 = Pair0('A', 'B')\n",
    "p1 = Prefer0('A', 'B')\n",
    "np1 = NoPrefer0('A', 'B')\n",
    "p1 == r0\n",
    "p1 == np1"
   ]
  },
  {
   "cell_type": "code",
   "execution_count": null,
   "metadata": {},
   "outputs": [],
   "source": [
    "print(p1 == np1) # values\n",
    "print(p1.isKindOf(np1)) # types"
   ]
  },
  {
   "cell_type": "code",
   "execution_count": null,
   "metadata": {},
   "outputs": [],
   "source": [
    "p1.__ne__(np1)\n",
    "type(p1)\n",
    "type(np1)"
   ]
  },
  {
   "cell_type": "code",
   "execution_count": null,
   "metadata": {},
   "outputs": [],
   "source": [
    "isinstance(p1, NoPrefer0)"
   ]
  },
  {
   "cell_type": "code",
   "execution_count": null,
   "metadata": {},
   "outputs": [],
   "source": [
    "p1.v == np1.v"
   ]
  },
  {
   "cell_type": "code",
   "execution_count": null,
   "metadata": {},
   "outputs": [],
   "source": [
    "p1 == np1"
   ]
  },
  {
   "cell_type": "code",
   "execution_count": null,
   "metadata": {},
   "outputs": [],
   "source": [
    "l1=[ 1, 2, 3]"
   ]
  },
  {
   "cell_type": "code",
   "execution_count": null,
   "metadata": {},
   "outputs": [],
   "source": [
    "def find1(l1, k):\n",
    "    return next(filter(lambda x: x == k, l1), None) is not None\n",
    "    \n",
    "find1(l1, 5)\n",
    "find1(l1, 2)"
   ]
  },
  {
   "cell_type": "code",
   "execution_count": null,
   "metadata": {},
   "outputs": [],
   "source": [
    "next(filter(lambda x: x == 2, l1), None)"
   ]
  },
  {
   "cell_type": "code",
   "execution_count": null,
   "metadata": {},
   "outputs": [],
   "source": [
    "fred = filter(lambda x: x == 5, l1)"
   ]
  },
  {
   "cell_type": "code",
   "execution_count": null,
   "metadata": {},
   "outputs": [],
   "source": [
    "empty(list(fred)) "
   ]
  },
  {
   "cell_type": "code",
   "execution_count": null,
   "metadata": {},
   "outputs": [],
   "source": [
    "[ x for x in range(2, 5+1) if x % 2 == 1 ]"
   ]
  },
  {
   "cell_type": "code",
   "execution_count": null,
   "metadata": {},
   "outputs": [],
   "source": [
    "def sockMerchant(n, ar):\n",
    "    u = set(ar)\n",
    "    if len(u) == n:\n",
    "        return 0\n",
    "    \n",
    "    s0 = [ len(list(filter(lambda x: x == y, ar))) for y in u ]\n",
    "    return s0\n",
    "\n",
    "l2 =[10, 20, 20, 10, 10, 30, 50, 10, 20]\n",
    "x1 = sockMerchant(9, l2)\n",
    "x1"
   ]
  },
  {
   "cell_type": "code",
   "execution_count": null,
   "metadata": {},
   "outputs": [],
   "source": [
    "s = \"DDDDUUUUUUDDDDDDUUUUUUDD\""
   ]
  },
  {
   "cell_type": "code",
   "execution_count": null,
   "metadata": {},
   "outputs": [],
   "source": [
    "[ print(x) for x in list(s) ]"
   ]
  },
  {
   "cell_type": "code",
   "execution_count": null,
   "metadata": {},
   "outputs": [],
   "source": [
    "x0 = map(lambda x: 1 if x == 'U' else -1, list(s))\n",
    "x1 = list(x0)"
   ]
  },
  {
   "cell_type": "code",
   "execution_count": null,
   "metadata": {},
   "outputs": [],
   "source": [
    " from itertools import accumulate"
   ]
  },
  {
   "cell_type": "code",
   "execution_count": null,
   "metadata": {},
   "outputs": [],
   "source": [
    "list(accumulate(x1))"
   ]
  },
  {
   "cell_type": "code",
   "execution_count": null,
   "metadata": {},
   "outputs": [],
   "source": [
    "s0 = '65+' \n",
    "s0.endswith('+')"
   ]
  },
  {
   "cell_type": "code",
   "execution_count": null,
   "metadata": {},
   "outputs": [],
   "source": [
    "s0 = '19-24'\n",
    "s0.split('-')[0]"
   ]
  },
  {
   "cell_type": "code",
   "execution_count": null,
   "metadata": {},
   "outputs": [],
   "source": [
    "0 == 0"
   ]
  },
  {
   "cell_type": "code",
   "execution_count": null,
   "metadata": {},
   "outputs": [],
   "source": [
    "not 0  == 1"
   ]
  },
  {
   "cell_type": "code",
   "execution_count": null,
   "metadata": {},
   "outputs": [],
   "source": [
    "ss = ('19', '24')\n",
    "ss1 = [ int(x) for x in ss]\n",
    "ss1"
   ]
  },
  {
   "cell_type": "code",
   "execution_count": null,
   "metadata": {},
   "outputs": [],
   "source": [
    "ss2 = np.diff(ss1)"
   ]
  },
  {
   "cell_type": "code",
   "execution_count": null,
   "metadata": {},
   "outputs": [],
   "source": [
    "ss2[0]"
   ]
  },
  {
   "cell_type": "code",
   "execution_count": null,
   "metadata": {},
   "outputs": [],
   "source": []
  }
 ],
 "metadata": {
  "kernelspec": {
   "display_name": "Python 3",
   "language": "python",
   "name": "python3"
  },
  "language_info": {
   "codemirror_mode": {
    "name": "ipython",
    "version": 3
   },
   "file_extension": ".py",
   "mimetype": "text/x-python",
   "name": "python",
   "nbconvert_exporter": "python",
   "pygments_lexer": "ipython3",
   "version": "3.8.8"
  }
 },
 "nbformat": 4,
 "nbformat_minor": 4
}
